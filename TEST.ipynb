{
 "cells": [
  {
   "cell_type": "code",
   "execution_count": null,
   "metadata": {},
   "outputs": [],
   "source": [
    "from hanaIO import *\n",
    "from sqlIO import *\n",
    "from datetime import datetime, timedelta\n",
    "\n",
    "# 获取昨天的日期\n",
    "yesterday = datetime.now() - timedelta(days=1)\n",
    "yesterday_str = yesterday.strftime('%Y%m%d')\n",
    "startday = '20210701'\n",
    "endday = '20211231'\n",
    "date_col = \"CALDAY\"\n",
    "table_name = \"CAL_ZRSD_D001\"\n",
    "hana = Hana()\n",
    "fwqsql = SQLOperating()\n",
    "colmuns = hana.get_hana_columns(table_name)\n",
    "\n"
   ]
  }
 ],
 "metadata": {
  "kernelspec": {
   "display_name": "Python 3",
   "language": "python",
   "name": "python3"
  },
  "language_info": {
   "codemirror_mode": {
    "name": "ipython",
    "version": 3
   },
   "file_extension": ".py",
   "mimetype": "text/x-python",
   "name": "python",
   "nbconvert_exporter": "python",
   "pygments_lexer": "ipython3",
   "version": "3.10.5"
  },
  "orig_nbformat": 4,
  "vscode": {
   "interpreter": {
    "hash": "865d8b2eb28e274047ba64063dfb6a2aabf0dfec4905d304d7a76618dae6fdd4"
   }
  }
 },
 "nbformat": 4,
 "nbformat_minor": 2
}
